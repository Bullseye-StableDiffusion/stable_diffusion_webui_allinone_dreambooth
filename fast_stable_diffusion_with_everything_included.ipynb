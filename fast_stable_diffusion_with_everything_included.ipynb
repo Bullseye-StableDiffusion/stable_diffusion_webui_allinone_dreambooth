{
  "cells": [
    {
      "cell_type": "markdown",
      "metadata": {
        "id": "47kV9o1Ni8GH"
      },
      "source": [
        "# **Notebook From https://github.com/TheLastBen/fast-stable-diffusion, if you encounter any issues, feel free to discuss them.** [Support](https://ko-fi.com/thelastben)\n",
        "\n",
        "Thanks to Ben for the base notebook! You can contact me on Discord: Bullseye#3886.\n",
        "Everything tested and working as of 3rd of February 2023."
      ]
    },
    {
      "cell_type": "code",
      "execution_count": null,
      "metadata": {
        "id": "Y9EBc437WDOs"
      },
      "outputs": [],
      "source": [
        "from google.colab import drive\n",
        "drive.mount('/content/gdrive')"
      ]
    },
    {
      "cell_type": "code",
      "execution_count": 1,
      "metadata": {
        "cellView": "form",
        "id": "CFWtw-6EPrKi",
        "colab": {
          "base_uri": "https://localhost:8080/",
          "height": 49,
          "referenced_widgets": [
            "2c89c62bd87b4f138615ed6f5aad193b",
            "d73a23d88740470b9fb9200cc0e746ef",
            "a2676fabddb745a2aa30eb04ab1fdd5c"
          ]
        },
        "outputId": "76206c19-de6c-4c3e-d7ae-1d566bb9cfc7"
      },
      "outputs": [
        {
          "output_type": "display_data",
          "data": {
            "text/plain": [
              "Button(button_style='success', description='✔ Done', disabled=True, layout=Layout(min_width='50px'), style=But…"
            ],
            "application/vnd.jupyter.widget-view+json": {
              "version_major": 2,
              "version_minor": 0,
              "model_id": "2c89c62bd87b4f138615ed6f5aad193b"
            }
          },
          "metadata": {}
        }
      ],
      "source": [
        "#@markdown # Install/Update AUTOMATIC1111 repo\n",
        "from IPython.utils import capture\n",
        "from IPython.display import clear_output\n",
        "from subprocess import getoutput\n",
        "import ipywidgets as widgets\n",
        "import sys\n",
        "import fileinput\n",
        "import os\n",
        "import time\n",
        "\n",
        "if not os.path.exists(\"/content/gdrive/MyDrive/\"):\n",
        "  print('\u001b[1;31mGdrive not connected, using colab storage ...')\n",
        "  time.sleep(4)\n",
        "  !mkdir -p /content/gdrive/MyDrive/\n",
        "with capture.capture_output() as cap:\n",
        "  def inf(msg, style, wdth): inf = widgets.Button(description=msg, disabled=True, button_style=style, layout=widgets.Layout(min_width=wdth));display(inf)\n",
        "  fgitclone = \"git clone --depth 1\"\n",
        "  %mkdir -p /content/gdrive/MyDrive/sd\n",
        "  %cd /content/gdrive/MyDrive/sd\n",
        "  !$fgitclone -q --branch master https://github.com/AUTOMATIC1111/stable-diffusion-webui\n",
        "  !mkdir -p /content/gdrive/MyDrive/sd/stable-diffusion-webui/cache/huggingface\n",
        "  !ln -s /content/gdrive/MyDrive/sd/stable-diffusion-webui/cache/huggingface /root/.cache/\n",
        "\n",
        "with capture.capture_output() as cap:\n",
        "  %cd /content/gdrive/MyDrive/sd/stable-diffusion-webui/\n",
        "  !git reset --hard\n",
        "  time.sleep(1)\n",
        "  !rm webui.sh\n",
        "print('\u001b[1;32m')\n",
        "!git pull\n",
        "clear_output()\n",
        "inf('\\u2714 Done','success', '50px')"
      ]
    },
    {
      "cell_type": "code",
      "execution_count": 2,
      "metadata": {
        "cellView": "form",
        "id": "ZGV_5H4xrOSp",
        "colab": {
          "base_uri": "https://localhost:8080/",
          "height": 49,
          "referenced_widgets": [
            "dfc1fdb9f6dd48fc8c83e62c20f06b69",
            "7b25ac51c5a5424eb8d7013db453440a",
            "efb1241725334e7785d07b2e01b7ab23"
          ]
        },
        "outputId": "f68ee7dd-b0be-428e-e7ae-d4721d854633"
      },
      "outputs": [
        {
          "output_type": "display_data",
          "data": {
            "text/plain": [
              "Button(button_style='success', description='✔ Done', disabled=True, layout=Layout(min_width='50px'), style=But…"
            ],
            "application/vnd.jupyter.widget-view+json": {
              "version_major": 2,
              "version_minor": 0,
              "model_id": "dfc1fdb9f6dd48fc8c83e62c20f06b69"
            }
          },
          "metadata": {}
        }
      ],
      "source": [
        "#@markdown # Requirements\n",
        "\n",
        "print('\u001b[1;32mInstalling requirements...')\n",
        "\n",
        "with capture.capture_output() as cap:\n",
        "  %cd /content/ \n",
        "  !wget -q -i https://raw.githubusercontent.com/TheLastBen/fast-stable-diffusion/main/Dependencies/A1111.txt\n",
        "  !dpkg -i *.deb\n",
        "  if not os.path.exists('/content/gdrive/MyDrive/sd/stablediffusion'):\n",
        "    !tar -C / --zstd -xf sd.tar.zst \n",
        "  !tar -C / --zstd -xf A1111_dep.tar.zst\n",
        "  !rm *.deb | rm *.zst | rm *.txt\n",
        "\n",
        "clear_output()\n",
        "inf('\\u2714 Done','success', '50px')"
      ]
    },
    {
      "cell_type": "code",
      "execution_count": 3,
      "metadata": {
        "cellView": "form",
        "id": "p4wj_txjP3TC",
        "colab": {
          "base_uri": "https://localhost:8080/",
          "height": 49,
          "referenced_widgets": [
            "4457752c5ad54f76a998a8f6183ca82c",
            "e66d33c8d00a413db34d6f81daf277db",
            "ca4d6d6c02b4419e8bde10c1a40a9d34"
          ]
        },
        "outputId": "ed9e38d1-d2a3-4962-f15f-f6022768f744"
      },
      "outputs": [
        {
          "output_type": "display_data",
          "data": {
            "text/plain": [
              "Button(button_style='success', description='✔ Model downloaded, using the trained model.', disabled=True, layo…"
            ],
            "application/vnd.jupyter.widget-view+json": {
              "version_major": 2,
              "version_minor": 0,
              "model_id": "4457752c5ad54f76a998a8f6183ca82c"
            }
          },
          "metadata": {}
        }
      ],
      "source": [
        "#@markdown # Model Download/Load\n",
        "Model_Version = \"1.5\" #@param [ \"1.5\", \"v1.5 Inpainting \", \"V2.1-512px\", \"V2.1-768px\"]\n",
        "\n",
        "Redownload_the_original_model = False #@param {type:\"boolean\"}\n",
        "\n",
        "if Redownload_the_original_model:\n",
        "  with capture.capture_output() as cap:\n",
        "    def rmv():\n",
        "      !wget -q -O /content/gdrive/MyDrive/sd/stable-diffusion-webui/models/Stable-diffusion/model.ckpt https://raw.githubusercontent.com/TheLastBen/fast-stable-diffusion/main/precompiled/README.md\n",
        "      !mv /content/gdrive/MyDrive/sd/stable-diffusion-webui/models/Stable-diffusion/model.ckpt /content/gdrive/MyDrive/sd/stable-diffusion-webui/models/Stable-diffusion/trashfile.f\n",
        "      time.sleep(2)\n",
        "      !rm /content/gdrive/MyDrive/sd/stable-diffusion-webui/models/Stable-diffusion/trashfile.f\n",
        "      clear_output()\n",
        "    rmv()\n",
        "\n",
        "#@markdown Or\n",
        "Path_to_MODEL = \"\" #@param {type:\"string\"}\n",
        "#@markdown - Insert the full path of your trained model or to a folder containing multiple models.\n",
        "\n",
        "#@markdown Or\n",
        "MODEL_LINK = \"https://civitai.com/api/download/models/6202\" #@param {type:\"string\"}\n",
        "safetensors = True #@param {type:\"boolean\"}\n",
        "Use_temp_storage = False #@param {type:\"boolean\"}\n",
        "\n",
        "\n",
        "\n",
        "def newmdl():\n",
        "\n",
        "    if not os.path.exists('/content/gdrive/MyDrive/sd/stable-diffusion-webui/models/Stable-diffusion/model.ckpt'):\n",
        "      %cd /content/\n",
        "      clear_output()\n",
        "      !git init\n",
        "      !git lfs install --system --skip-repo\n",
        "      !$fgitclone --branch fp16 \"https://huggingface.co/runwayml/stable-diffusion-v1-5\"\n",
        "      if os.path.exists('/content/stable-diffusion-v1-5'):\n",
        "        !$fgitclone \"https://huggingface.co/stabilityai/sd-vae-ft-mse\"\n",
        "        !rm -r /content/stable-diffusion-v1-5/vae\n",
        "        !mv /content/sd-vae-ft-mse /content/stable-diffusion-v1-5/vae\n",
        "        !wget -O convertosd.py https://github.com/TheLastBen/fast-stable-diffusion/raw/main/Dreambooth/convertosd.py\n",
        "        !sed -i '201s@.*@    model_path = \"/content/stable-diffusion-v1-5\"@' /content/convertosd.py\n",
        "        !sed -i '202s@.*@    checkpoint_path= \"/content/gdrive/MyDrive/sd/stable-diffusion-webui/models/Stable-diffusion/model.ckpt\"@' /content/convertosd.py\n",
        "        clear_output()       \n",
        "        !python /content/convertosd.py\n",
        "        !rm /content/convertosd.py\n",
        "        if os.path.exists('/content/gdrive/MyDrive/sd/stable-diffusion-webui/models/Stable-diffusion/model.ckpt'):\n",
        "          model='/content/gdrive/MyDrive/sd/stable-diffusion-webui/models/Stable-diffusion/model.ckpt'\n",
        "          clear_output()\n",
        "          inf('\\u2714 Done','success', '50px')\n",
        "        else:\n",
        "          inf('\\u2718 Something went wrong, try again','danger', \"250px\")\n",
        "      else:\n",
        "        inf('\\u2718 Something went wrong','danger', \"200px\")\n",
        "\n",
        "    else:\n",
        "      model='/content/gdrive/MyDrive/sd/stable-diffusion-webui/models/Stable-diffusion/model.ckpt'\n",
        "      clear_output()\n",
        "      inf('\\u2714 Model already exists, check the box \"Redownload_the_original_model\" to redownload/download the V1.5','primary', '700px')\n",
        "\n",
        "    if os.path.exists('/content/.git'):\n",
        "      !rm -r /content/.git\n",
        "\n",
        "    if os.path.exists('/content/stable-diffusion-v1-5'):\n",
        "      !rm -r /content/stable-diffusion-v1-5\n",
        "\n",
        "    return model\n",
        "\n",
        "def V2():\n",
        "\n",
        "    if not os.path.exists('/content/gdrive/MyDrive/sd/stable-diffusion-webui/models/Stable-diffusion/model.ckpt'):\n",
        "      %cd /content/\n",
        "      clear_output()\n",
        "      !mkdir \"/content/stable-diffusion-V2\"\n",
        "      %cd \"/content/stable-diffusion-V2\"\n",
        "      !git init\n",
        "      !git lfs install --system --skip-repo\n",
        "      if Model_Version == \"V2.1-768px\":\n",
        "        !git remote add -f origin  \"https://huggingface.co/stabilityai/stable-diffusion-2-1\"\n",
        "      elif Model_Version == \"V2.1-512px\":\n",
        "        !git remote add -f origin  \"https://huggingface.co/stabilityai/stable-diffusion-2-1-base\"\n",
        "      !git config core.sparsecheckout true\n",
        "      !echo -e \"scheduler\\ntext_encoder\\ntokenizer\\nunet\\nvae\\nfeature_extractor\\nmodel_index.json\\n!*.safetensors\" > .git/info/sparse-checkout\n",
        "      !git pull origin fp16\n",
        "      %cd /content\n",
        "      !wget -O convertosdv2.py https://github.com/TheLastBen/fast-stable-diffusion/raw/main/Dreambooth/convertosdv2.py\n",
        "      clear_output()\n",
        "      !python /content/convertosdv2.py --fp16 /content/stable-diffusion-V2 /content/gdrive/MyDrive/sd/stable-diffusion-webui/models/Stable-diffusion/model.ckpt\n",
        "      !rm /content/convertosdv2.py\n",
        "      if os.path.exists('/content/gdrive/MyDrive/sd/stable-diffusion-webui/models/Stable-diffusion/model.ckpt'):\n",
        "        model='/content/gdrive/MyDrive/sd/stable-diffusion-webui/models/Stable-diffusion/model.ckpt'\n",
        "        clear_output()\n",
        "        inf('\\u2714 Done','success', '50px')\n",
        "      else:\n",
        "        inf('\\u2718 Something went wrong, try again','danger', \"250px\")\n",
        "\n",
        "    else:\n",
        "      model='/content/gdrive/MyDrive/sd/stable-diffusion-webui/models/Stable-diffusion/model.ckpt'\n",
        "      clear_output()\n",
        "      inf('\\u2714 Model already exists, check the box \"Redownload_the_original_model\" to redownload/download the V2','primary', '700px')\n",
        "\n",
        "    if os.path.exists('/content/.git'):\n",
        "      !rm -r /content/.git\n",
        "      !rm -r /content/convertosdv2.py\n",
        "    if os.path.exists('/content/stable-diffusion-V2'):\n",
        "      !rm -r /content/stable-diffusion-V2\n",
        "\n",
        "    return model\n",
        "\n",
        "def inpmdl():\n",
        "\n",
        "    if not os.path.exists('/content/gdrive/MyDrive/sd/stable-diffusion-webui/models/Stable-diffusion/sd-v1-5-inpainting.ckpt'):\n",
        "      %cd /content/\n",
        "      clear_output()\n",
        "      !git init\n",
        "      !git lfs install --system --skip-repo\n",
        "      !$fgitclone --branch fp16 \"https://huggingface.co/runwayml/stable-diffusion-inpainting\"\n",
        "      if os.path.exists('/content/stable-diffusion-inpainting'):\n",
        "        !$fgitclone \"https://huggingface.co/stabilityai/sd-vae-ft-mse\"\n",
        "        !rm -r /content/stable-diffusion-inpainting/vae\n",
        "        !mv /content/sd-vae-ft-mse /content/stable-diffusion-inpainting/vae        \n",
        "        !wget -O convertosd.py https://github.com/TheLastBen/fast-stable-diffusion/raw/main/Dreambooth/convertosd.py\n",
        "        !sed -i '201s@.*@    model_path = \"/content/stable-diffusion-inpainting\"@' /content/convertosd.py\n",
        "        !sed -i '202s@.*@    checkpoint_path= \"/content/gdrive/MyDrive/sd/stable-diffusion-webui/models/Stable-diffusion/sd-v1-5-inpainting.ckpt\"@' /content/convertosd.py\n",
        "        clear_output()       \n",
        "        !python /content/convertosd.py\n",
        "        !rm /content/convertosd.py\n",
        "        if os.path.exists('/content/gdrive/MyDrive/sd/stable-diffusion-webui/models/Stable-diffusion/sd-v1-5-inpainting.ckpt'):\n",
        "          model='/content/gdrive/MyDrive/sd/stable-diffusion-webui/models/Stable-diffusion/sd-v1-5-inpainting.ckpt'\n",
        "          clear_output()\n",
        "          inf('\\u2714 Done','success', '50px')\n",
        "        else:\n",
        "          inf('\\u2718 Something went wrong, try again','danger', \"250px\")\n",
        "      else:\n",
        "        inf('\\u2718 Something went wrong','danger', \"200px\")\n",
        "\n",
        "\n",
        "    else:\n",
        "      model='/content/gdrive/MyDrive/sd/stable-diffusion-webui/models/Stable-diffusion/sd-v1-5-inpainting.ckpt'\n",
        "      clear_output()\n",
        "      inf('\\u2714 inpainting model already exists','primary', '250px')\n",
        "\n",
        "    if os.path.exists('/content/.git'):\n",
        "      !rm -r /content/.git\n",
        "\n",
        "    if os.path.exists('/content/stable-diffusion-inpainting'):\n",
        "      !rm -r /content/stable-diffusion-inpainting\n",
        "\n",
        "    return model\n",
        "\n",
        "if (Path_to_MODEL !=''):\n",
        "  if os.path.exists(str(Path_to_MODEL)):\n",
        "    inf('\\u2714 Using the trained model.','success', '200px')\n",
        "\n",
        "  else:\n",
        "      while not os.path.exists(str(Path_to_MODEL)):\n",
        "        inf('\\u2718 Wrong path, use the colab file explorer to copy the path : ','danger', \"400px\")\n",
        "        Path_to_MODEL=input()\n",
        "      if os.path.exists(str(Path_to_MODEL)):\n",
        "        inf('\\u2714 Using the trained model.','success', '200px')\n",
        "\n",
        "  model=Path_to_MODEL\n",
        "\n",
        "elif MODEL_LINK != \"\":\n",
        "  gdrv=\"/content/gdrive/MyDrive/sd/stable-diffusion-webui/models/Stable-diffusion\"\n",
        "  tmp=\"/content\"\n",
        "  pth=tmp if Use_temp_storage else gdrv\n",
        "  %cd $pth\n",
        "  clear_output()\n",
        "  if not safetensors:\n",
        "    modelname=\"model.ckpt\"\n",
        "  else:\n",
        "    modelname=\"model.safetensors\"\n",
        "  !gdown --fuzzy -O $modelname $MODEL_LINK\n",
        "  if os.path.exists(f'{pth}/{modelname}') and os.path.getsize(f'{pth}/{modelname}') > 1810671599:    \n",
        "      model=f'{pth}/{modelname}'\n",
        "      clear_output()\n",
        "      inf('\\u2714 Model downloaded, using the trained model.','success', '350px')\n",
        "  else:\n",
        "    if Use_temp_storage:\n",
        "      !rm $pth/$modelname\n",
        "    else:\n",
        "      rmv()\n",
        "    inf('\\u2718 Wrong link, check that the link is valid','danger', \"300px\")\n",
        "\n",
        "\n",
        "elif Model_Version==\"1.5\":\n",
        "  model=newmdl()\n",
        "\n",
        "elif Model_Version==\"V2.1-512px\" or Model_Version==\"V2.1-768px\":\n",
        "  model=V2()\n",
        "\n",
        "else:\n",
        "   model=inpmdl()"
      ]
    },
    {
      "cell_type": "code",
      "source": [
        "#@markdown # (Optional): Use the standard VAE\n",
        "%cd /content/gdrive/MyDrive/sd\n",
        "!curl -Lo dreamshaper_332BakedVaeClipFix.vae.pt https://huggingface.co/stabilityai/sd-vae-ft-mse-original/resolve/main/vae-ft-mse-840000-ema-pruned.ckpt\n",
        "!mv \"/content/gdrive/MyDrive/sd/dreamshaper_332BakedVaeClipFix.vae.pt\" \"/content/gdrive/MyDrive/sd/stable-diffusion-webui/models/Stable-diffusion\""
      ],
      "metadata": {
        "colab": {
          "base_uri": "https://localhost:8080/"
        },
        "cellView": "form",
        "id": "ouz3kv5rFcQ-",
        "outputId": "e7e71cb7-a5fc-4e6c-b234-907a34178e89"
      },
      "execution_count": 4,
      "outputs": [
        {
          "output_type": "stream",
          "name": "stdout",
          "text": [
            "/content/gdrive/MyDrive/sd\n",
            "  % Total    % Received % Xferd  Average Speed   Time    Time     Time  Current\n",
            "                                 Dload  Upload   Total   Spent    Left  Speed\n",
            "100  1161  100  1161    0     0   4017      0 --:--:-- --:--:-- --:--:--  4017\n",
            "100  319M  100  319M    0     0   129M      0  0:00:02  0:00:02 --:--:--  168M\n"
          ]
        }
      ]
    },
    {
      "cell_type": "code",
      "source": [
        "#@markdown # Install instruct pix2pix (model and extension)\n",
        "!curl -Lo instruct-pix2pix-00-22000.safetensors https://huggingface.co/timbrooks/instruct-pix2pix/resolve/main/instruct-pix2pix-00-22000.safetensors\n",
        "!mv \"/content/gdrive/MyDrive/sd/instruct-pix2pix-00-22000.safetensors\" \"/content/gdrive/MyDrive/sd/stable-diffusion-webui/models/Stable-diffusion\"\n",
        "!git clone https://github.com/Klace/stable-diffusion-webui-instruct-pix2pix /content/gdrive/MyDrive/sd/stable-diffusion-webui/extensions/stable-diffusion-webui-instruct-pix2pix"
      ],
      "metadata": {
        "colab": {
          "base_uri": "https://localhost:8080/"
        },
        "cellView": "form",
        "id": "RzFF57RhFdHl",
        "outputId": "01ae958a-08fd-4e3a-87e2-1abd60116074"
      },
      "execution_count": 5,
      "outputs": [
        {
          "output_type": "stream",
          "name": "stdout",
          "text": [
            "  % Total    % Received % Xferd  Average Speed   Time    Time     Time  Current\n",
            "                                 Dload  Upload   Total   Spent    Left  Speed\n",
            "100  1173  100  1173    0     0   4477      0 --:--:-- --:--:-- --:--:--  4477\n",
            "100 7346M  100 7346M    0     0   223M      0  0:00:32  0:00:32 --:--:--  255M\n",
            "Cloning into '/content/gdrive/MyDrive/sd/stable-diffusion-webui/extensions/stable-diffusion-webui-instruct-pix2pix'...\n",
            "remote: Enumerating objects: 207, done.\u001b[K\n",
            "remote: Counting objects: 100% (77/77), done.\u001b[K\n",
            "remote: Compressing objects: 100% (49/49), done.\u001b[K\n",
            "remote: Total 207 (delta 27), reused 35 (delta 13), pack-reused 130\u001b[K\n",
            "Receiving objects: 100% (207/207), 61.42 KiB | 15.36 MiB/s, done.\n",
            "Resolving deltas: 100% (80/80), done.\n"
          ]
        }
      ]
    },
    {
      "cell_type": "code",
      "source": [
        "#@markdown # Install the NijiJourney LoRA and the required extension for it. Copy and paste this directory \"/content/gdrive/MyDrive/sd/stable-diffusion-webui/models/LoRA\" in settings -> additional networks.\n",
        "!mkdir \"/content/gdrive/MyDrive/sd/stable-diffusion-webui/models/LoRA\"\n",
        "!curl -Lo LuisapNijijourney_v1.safetensors https://civitai.com/api/download/models/5990\n",
        "!mv \"/content/gdrive/MyDrive/sd/LuisapNijijourney_v1.safetensors\" \"/content/gdrive/MyDrive/sd/stable-diffusion-webui/models/LoRA\"\n",
        "!git clone https://github.com/camenduru/sd-webui-additional-networks /content/gdrive/MyDrive/sd/stable-diffusion-webui/extensions/sd-webui-additional-networks"
      ],
      "metadata": {
        "colab": {
          "base_uri": "https://localhost:8080/"
        },
        "cellView": "form",
        "id": "10nGd1Z5Fejw",
        "outputId": "7305430c-6426-454a-eea2-439f00cad37c"
      },
      "execution_count": 7,
      "outputs": [
        {
          "output_type": "stream",
          "name": "stdout",
          "text": [
            "  % Total    % Received % Xferd  Average Speed   Time    Time     Time  Current\n",
            "                                 Dload  Upload   Total   Spent    Left  Speed\n",
            "100   549    0   549    0     0   1721      0 --:--:-- --:--:-- --:--:--  1715\n",
            "100  144M  100  144M    0     0  63.4M      0  0:00:02  0:00:02 --:--:-- 84.1M\n",
            "Cloning into '/content/gdrive/MyDrive/sd/stable-diffusion-webui/extensions/sd-webui-additional-networks'...\n",
            "remote: Enumerating objects: 20, done.\u001b[K\n",
            "remote: Counting objects: 100% (20/20), done.\u001b[K\n",
            "remote: Compressing objects: 100% (17/17), done.\u001b[K\n",
            "remote: Total 20 (delta 4), reused 0 (delta 0), pack-reused 0\u001b[K\n",
            "Unpacking objects: 100% (20/20), 15.19 KiB | 3.04 MiB/s, done.\n"
          ]
        }
      ]
    },
    {
      "cell_type": "code",
      "source": [
        "#@markdown # Use the Hamunaptra Style textual inversion. Add \"Style-Hamunaptra\" in your prompts to activate it.\n",
        "!curl -Lo Style-Hamunaptra.pt https://civitai.com/api/download/models/4658\n",
        "!mv \"/content/gdrive/MyDrive/sd/Style-Hamunaptra.pt\" \"/content/gdrive/MyDrive/sd/stable-diffusion-webui/embeddings\""
      ],
      "metadata": {
        "colab": {
          "base_uri": "https://localhost:8080/"
        },
        "cellView": "form",
        "id": "syNjfEq8Ip1I",
        "outputId": "72c0c48d-9877-45c7-84d2-09c4ba64c265"
      },
      "execution_count": 8,
      "outputs": [
        {
          "output_type": "stream",
          "name": "stdout",
          "text": [
            "  % Total    % Received % Xferd  Average Speed   Time    Time     Time  Current\n",
            "                                 Dload  Upload   Total   Spent    Left  Speed\n",
            "100   531    0   531    0     0   1127      0 --:--:-- --:--:-- --:--:--  1127\n",
            "100 50027  100 50027    0     0  71061      0 --:--:-- --:--:-- --:--:-- 6159k\n"
          ]
        }
      ]
    },
    {
      "cell_type": "code",
      "source": [
        "#@markdown # Use the anadearmas.pt hypernetwork. Select it from the settings tab to use it.\n",
        "!mkdir \"/content/gdrive/MyDrive/sd/stable-diffusion-webui/models/hypernetworks\"\n",
        "!curl -Lo anadearmasPt_v1.pt https://civitai.com/api/download/models/4550\n",
        "!mv \"/content/gdrive/MyDrive/sd/anadearmasPt_v1.pt\" \"/content/gdrive/MyDrive/sd/stable-diffusion-webui/models/hypernetworks\""
      ],
      "metadata": {
        "colab": {
          "base_uri": "https://localhost:8080/"
        },
        "cellView": "form",
        "id": "Y1Yt3mM7JZWo",
        "outputId": "fb360163-0f75-40f9-e222-2fba9f7c106f"
      },
      "execution_count": 9,
      "outputs": [
        {
          "output_type": "stream",
          "name": "stdout",
          "text": [
            "  % Total    % Received % Xferd  Average Speed   Time    Time     Time  Current\n",
            "                                 Dload  Upload   Total   Spent    Left  Speed\n",
            "100   538    0   538    0     0   1977      0 --:--:-- --:--:-- --:--:--  1977\n",
            "100 83.7M  100 83.7M    0     0  50.1M      0  0:00:01  0:00:01 --:--:-- 70.1M\n"
          ]
        }
      ]
    },
    {
      "cell_type": "code",
      "source": [
        "#@markdown # Go in the primary directory to start the WebUI.\n",
        "%cd /content/gdrive/MyDrive/sd/stable-diffusion-webui"
      ],
      "metadata": {
        "colab": {
          "base_uri": "https://localhost:8080/"
        },
        "cellView": "form",
        "id": "4IywA7nrJ0uw",
        "outputId": "2019ef38-0239-4de5-8fa2-bfe5806d6b67"
      },
      "execution_count": 10,
      "outputs": [
        {
          "output_type": "stream",
          "name": "stdout",
          "text": [
            "/content/gdrive/MyDrive/sd/stable-diffusion-webui\n"
          ]
        }
      ]
    },
    {
      "cell_type": "code",
      "execution_count": null,
      "metadata": {
        "cellView": "form",
        "id": "PjzwxTkPSPHf"
      },
      "outputs": [],
      "source": [
        "#@markdown # Start Stable-Diffusion\n",
        "from IPython.utils import capture\n",
        "import time\n",
        "import sys\n",
        "import fileinput\n",
        "\n",
        "Use_localtunnel = False #@param {type:\"boolean\"}\n",
        "\n",
        "User = \"\" #@param {type:\"string\"}\n",
        "Password= \"\" #@param {type:\"string\"}\n",
        "#@markdown - Add credentials to your Gradio interface (optional).\n",
        "\n",
        "auth=f\"--gradio-auth {User}:{Password}\"\n",
        "if User ==\"\" or Password==\"\":\n",
        "  auth=\"\"\n",
        "\n",
        "with capture.capture_output() as cap:\n",
        "  if not os.path.exists('/tools/node/bin/lt'):\n",
        "    !npm install -g localtunnel\n",
        "\n",
        "with capture.capture_output() as cap:\n",
        "  %cd /content/gdrive/MyDrive/sd/stable-diffusion-webui/modules/\n",
        "  !wget -O paths.py https://raw.githubusercontent.com/TheLastBen/fast-stable-diffusion/main/AUTOMATIC1111_files/paths.py\n",
        "  !wget -O extras.py https://raw.githubusercontent.com/AUTOMATIC1111/stable-diffusion-webui/master/modules/extras.py\n",
        "  !wget -O sd_models.py https://raw.githubusercontent.com/AUTOMATIC1111/stable-diffusion-webui/master/modules/sd_models.py\n",
        "  !wget -q -O /usr/local/lib/python3.8/dist-packages/gradio/blocks.py https://raw.githubusercontent.com/TheLastBen/fast-stable-diffusion/main/AUTOMATIC1111_files/blocks.py\n",
        "  %cd /content/gdrive/MyDrive/sd/stable-diffusion-webui/\n",
        "\n",
        "  !sed -i \"s@os.path.splitext(checkpoint_file)@os.path.splitext(checkpoint_file); map_location='cuda' if os.path.getsize(checkpoint_file) > 4500000000 else map_location@\" /content/gdrive/MyDrive/sd/stable-diffusion-webui/modules/sd_models.py\n",
        "  !sed -i 's@ui.create_ui().*@ui.create_ui();shared.demo.queue(concurrency_count=999999,status_update_rate=0.1)@' /content/gdrive/MyDrive/sd/stable-diffusion-webui/webui.py\n",
        "  !sed -i \"s@map_location='cpu'@map_location='cuda'@\" /content/gdrive/MyDrive/sd/stable-diffusion-webui/modules/extras.py\n",
        "\n",
        "share=''\n",
        "if not Use_localtunnel:\n",
        "  share='--share'\n",
        "\n",
        "else:\n",
        "  with capture.capture_output() as cap:\n",
        "    share=''\n",
        "    %cd /content\n",
        "    !nohup lt --port 7860 > srv.txt 2>&1 &\n",
        "    time.sleep(2)\n",
        "    !grep -o 'https[^ ]*' /content/srv.txt >srvr.txt\n",
        "    time.sleep(2)\n",
        "    srv= getoutput('cat /content/srvr.txt')\n",
        "\n",
        "    for line in fileinput.input('/usr/local/lib/python3.8/dist-packages/gradio/blocks.py', inplace=True):\n",
        "      if line.strip().startswith('self.server_name ='):\n",
        "          line = f'            self.server_name = \"{srv[8:]}\"\\n'\n",
        "      if line.strip().startswith('self.protocol = \"https\"'):\n",
        "          line = '            self.protocol = \"https\"\\n'\n",
        "      if line.strip().startswith('if self.local_url.startswith(\"https\") or self.is_colab'):\n",
        "          line = ''\n",
        "      if line.strip().startswith('else \"http\"'):\n",
        "          line = ''\n",
        "      sys.stdout.write(line)\n",
        "            \n",
        "    !rm /content/srv.txt /content/srvr.txt\n",
        "    %cd /content/gdrive/MyDrive/sd/stable-diffusion-webui\n",
        "\n",
        "try:\n",
        "  model\n",
        "  if os.path.isfile(model):\n",
        "    !python /content/gdrive/MyDrive/sd/stable-diffusion-webui/webui.py $share --api --disable-safe-unpickle --enable-insecure-extension-access --no-half-vae  --ckpt \"$model\" --xformers $auth --disable-console-progressbars\n",
        "  else:\n",
        "    !python /content/gdrive/MyDrive/sd/stable-diffusion-webui/webui.py $share --api --disable-safe-unpickle --enable-insecure-extension-access --no-half-vae  --ckpt-dir \"$model\" --xformers $auth --disable-console-progressbars\n",
        "except:\n",
        "   !python /content/gdrive/MyDrive/sd/stable-diffusion-webui/webui.py $share --api --disable-safe-unpickle --enable-insecure-extension-access --no-half-vae --xformers $auth --disable-console-progressbars"
      ]
    },
    {
      "cell_type": "markdown",
      "source": [
        "To use Dreambooth, go to the extension tab, install it, click on \"apply and restart UI\", stop the \"Start Stable-Diffusion\" cell from running and rerun it."
      ],
      "metadata": {
        "id": "AQXI4r0MLrrA"
      }
    }
  ],
  "metadata": {
    "accelerator": "GPU",
    "colab": {
      "provenance": []
    },
    "kernelspec": {
      "display_name": "Python 3",
      "name": "python3"
    },
    "language_info": {
      "name": "python"
    },
    "widgets": {
      "application/vnd.jupyter.widget-state+json": {
        "2c89c62bd87b4f138615ed6f5aad193b": {
          "model_module": "@jupyter-widgets/controls",
          "model_name": "ButtonModel",
          "model_module_version": "1.5.0",
          "state": {
            "_dom_classes": [],
            "_model_module": "@jupyter-widgets/controls",
            "_model_module_version": "1.5.0",
            "_model_name": "ButtonModel",
            "_view_count": null,
            "_view_module": "@jupyter-widgets/controls",
            "_view_module_version": "1.5.0",
            "_view_name": "ButtonView",
            "button_style": "success",
            "description": "✔ Done",
            "disabled": true,
            "icon": "",
            "layout": "IPY_MODEL_d73a23d88740470b9fb9200cc0e746ef",
            "style": "IPY_MODEL_a2676fabddb745a2aa30eb04ab1fdd5c",
            "tooltip": ""
          }
        },
        "d73a23d88740470b9fb9200cc0e746ef": {
          "model_module": "@jupyter-widgets/base",
          "model_name": "LayoutModel",
          "model_module_version": "1.2.0",
          "state": {
            "_model_module": "@jupyter-widgets/base",
            "_model_module_version": "1.2.0",
            "_model_name": "LayoutModel",
            "_view_count": null,
            "_view_module": "@jupyter-widgets/base",
            "_view_module_version": "1.2.0",
            "_view_name": "LayoutView",
            "align_content": null,
            "align_items": null,
            "align_self": null,
            "border": null,
            "bottom": null,
            "display": null,
            "flex": null,
            "flex_flow": null,
            "grid_area": null,
            "grid_auto_columns": null,
            "grid_auto_flow": null,
            "grid_auto_rows": null,
            "grid_column": null,
            "grid_gap": null,
            "grid_row": null,
            "grid_template_areas": null,
            "grid_template_columns": null,
            "grid_template_rows": null,
            "height": null,
            "justify_content": null,
            "justify_items": null,
            "left": null,
            "margin": null,
            "max_height": null,
            "max_width": null,
            "min_height": null,
            "min_width": "50px",
            "object_fit": null,
            "object_position": null,
            "order": null,
            "overflow": null,
            "overflow_x": null,
            "overflow_y": null,
            "padding": null,
            "right": null,
            "top": null,
            "visibility": null,
            "width": null
          }
        },
        "a2676fabddb745a2aa30eb04ab1fdd5c": {
          "model_module": "@jupyter-widgets/controls",
          "model_name": "ButtonStyleModel",
          "model_module_version": "1.5.0",
          "state": {
            "_model_module": "@jupyter-widgets/controls",
            "_model_module_version": "1.5.0",
            "_model_name": "ButtonStyleModel",
            "_view_count": null,
            "_view_module": "@jupyter-widgets/base",
            "_view_module_version": "1.2.0",
            "_view_name": "StyleView",
            "button_color": null,
            "font_weight": ""
          }
        },
        "dfc1fdb9f6dd48fc8c83e62c20f06b69": {
          "model_module": "@jupyter-widgets/controls",
          "model_name": "ButtonModel",
          "model_module_version": "1.5.0",
          "state": {
            "_dom_classes": [],
            "_model_module": "@jupyter-widgets/controls",
            "_model_module_version": "1.5.0",
            "_model_name": "ButtonModel",
            "_view_count": null,
            "_view_module": "@jupyter-widgets/controls",
            "_view_module_version": "1.5.0",
            "_view_name": "ButtonView",
            "button_style": "success",
            "description": "✔ Done",
            "disabled": true,
            "icon": "",
            "layout": "IPY_MODEL_7b25ac51c5a5424eb8d7013db453440a",
            "style": "IPY_MODEL_efb1241725334e7785d07b2e01b7ab23",
            "tooltip": ""
          }
        },
        "7b25ac51c5a5424eb8d7013db453440a": {
          "model_module": "@jupyter-widgets/base",
          "model_name": "LayoutModel",
          "model_module_version": "1.2.0",
          "state": {
            "_model_module": "@jupyter-widgets/base",
            "_model_module_version": "1.2.0",
            "_model_name": "LayoutModel",
            "_view_count": null,
            "_view_module": "@jupyter-widgets/base",
            "_view_module_version": "1.2.0",
            "_view_name": "LayoutView",
            "align_content": null,
            "align_items": null,
            "align_self": null,
            "border": null,
            "bottom": null,
            "display": null,
            "flex": null,
            "flex_flow": null,
            "grid_area": null,
            "grid_auto_columns": null,
            "grid_auto_flow": null,
            "grid_auto_rows": null,
            "grid_column": null,
            "grid_gap": null,
            "grid_row": null,
            "grid_template_areas": null,
            "grid_template_columns": null,
            "grid_template_rows": null,
            "height": null,
            "justify_content": null,
            "justify_items": null,
            "left": null,
            "margin": null,
            "max_height": null,
            "max_width": null,
            "min_height": null,
            "min_width": "50px",
            "object_fit": null,
            "object_position": null,
            "order": null,
            "overflow": null,
            "overflow_x": null,
            "overflow_y": null,
            "padding": null,
            "right": null,
            "top": null,
            "visibility": null,
            "width": null
          }
        },
        "efb1241725334e7785d07b2e01b7ab23": {
          "model_module": "@jupyter-widgets/controls",
          "model_name": "ButtonStyleModel",
          "model_module_version": "1.5.0",
          "state": {
            "_model_module": "@jupyter-widgets/controls",
            "_model_module_version": "1.5.0",
            "_model_name": "ButtonStyleModel",
            "_view_count": null,
            "_view_module": "@jupyter-widgets/base",
            "_view_module_version": "1.2.0",
            "_view_name": "StyleView",
            "button_color": null,
            "font_weight": ""
          }
        },
        "4457752c5ad54f76a998a8f6183ca82c": {
          "model_module": "@jupyter-widgets/controls",
          "model_name": "ButtonModel",
          "model_module_version": "1.5.0",
          "state": {
            "_dom_classes": [],
            "_model_module": "@jupyter-widgets/controls",
            "_model_module_version": "1.5.0",
            "_model_name": "ButtonModel",
            "_view_count": null,
            "_view_module": "@jupyter-widgets/controls",
            "_view_module_version": "1.5.0",
            "_view_name": "ButtonView",
            "button_style": "success",
            "description": "✔ Model downloaded, using the trained model.",
            "disabled": true,
            "icon": "",
            "layout": "IPY_MODEL_e66d33c8d00a413db34d6f81daf277db",
            "style": "IPY_MODEL_ca4d6d6c02b4419e8bde10c1a40a9d34",
            "tooltip": ""
          }
        },
        "e66d33c8d00a413db34d6f81daf277db": {
          "model_module": "@jupyter-widgets/base",
          "model_name": "LayoutModel",
          "model_module_version": "1.2.0",
          "state": {
            "_model_module": "@jupyter-widgets/base",
            "_model_module_version": "1.2.0",
            "_model_name": "LayoutModel",
            "_view_count": null,
            "_view_module": "@jupyter-widgets/base",
            "_view_module_version": "1.2.0",
            "_view_name": "LayoutView",
            "align_content": null,
            "align_items": null,
            "align_self": null,
            "border": null,
            "bottom": null,
            "display": null,
            "flex": null,
            "flex_flow": null,
            "grid_area": null,
            "grid_auto_columns": null,
            "grid_auto_flow": null,
            "grid_auto_rows": null,
            "grid_column": null,
            "grid_gap": null,
            "grid_row": null,
            "grid_template_areas": null,
            "grid_template_columns": null,
            "grid_template_rows": null,
            "height": null,
            "justify_content": null,
            "justify_items": null,
            "left": null,
            "margin": null,
            "max_height": null,
            "max_width": null,
            "min_height": null,
            "min_width": "350px",
            "object_fit": null,
            "object_position": null,
            "order": null,
            "overflow": null,
            "overflow_x": null,
            "overflow_y": null,
            "padding": null,
            "right": null,
            "top": null,
            "visibility": null,
            "width": null
          }
        },
        "ca4d6d6c02b4419e8bde10c1a40a9d34": {
          "model_module": "@jupyter-widgets/controls",
          "model_name": "ButtonStyleModel",
          "model_module_version": "1.5.0",
          "state": {
            "_model_module": "@jupyter-widgets/controls",
            "_model_module_version": "1.5.0",
            "_model_name": "ButtonStyleModel",
            "_view_count": null,
            "_view_module": "@jupyter-widgets/base",
            "_view_module_version": "1.2.0",
            "_view_name": "StyleView",
            "button_color": null,
            "font_weight": ""
          }
        }
      }
    }
  },
  "nbformat": 4,
  "nbformat_minor": 0
}