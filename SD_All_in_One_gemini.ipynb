{
  "cells": [
    {
      "cell_type": "code",
      "source": [
        "from google.colab import drive\n",
        "drive.mount('/content/drive')"
      ],
      "metadata": {
        "id": "2m2ofi7BQauc"
      },
      "execution_count": null,
      "outputs": []
    },
    {
      "cell_type": "markdown",
      "source": [
        "WebUI, extensions and dependencies"
      ],
      "metadata": {
        "id": "EVgDaHSi7tnO"
      }
    },
    {
      "cell_type": "code",
      "source": [
        "!git clone https://github.com/AUTOMATIC1111/stable-diffusion-webui\n",
        "!git clone https://github.com/yfszzx/stable-diffusion-webui-images-browser /content/stable-diffusion-webui/extensions/stable-diffusion-webui-images-browser\n",
        "!git clone https://github.com/d8ahazard/sd_dreambooth_extension /content/stable-diffusion-webui/extensions/sd_dreambooth_extension\n",
        "!git clone https://github.com/Klace/stable-diffusion-webui-instruct-pix2pix /content/stable-diffusion-webui/extensions/stable-diffusion-webui-instruct-pix2pix\n",
        "!git clone https://github.com/camenduru/sd-civitai-browser /content/stable-diffusion-webui/extensions/sd-civitai-browser\n",
        "!git clone https://github.com/camenduru/sd-webui-additional-networks /content/stable-diffusion-webui/extensions/sd-webui-additional-networks\n",
        "!pip install -q https://github.com/camenduru/stable-diffusion-webui-colab/releases/download/0.0.16/xformers-0.0.16+814314d.d20230118-cp38-cp38-linux_x86_64.whl\n",
        "!pip install -q --pre triton\n",
        "!wget https://raw.githubusercontent.com/camenduru/stable-diffusion-webui-scripts/main/run_n_times.py -O /content/stable-diffusion-webui/scripts/run_n_times.py\n",
        "%cd /content/stable-diffusion-webui\n",
        "!git pull\n",
        "%cd /content"
      ],
      "metadata": {
        "id": "7Y5inriE74Xt"
      },
      "execution_count": null,
      "outputs": []
    },
    {
      "cell_type": "markdown",
      "source": [
        "Model and VAE\n",
        "\n",
        "For using another custom model replace \"https://civitai.com/api/download/models/6202\" with the link to that model's ckpt or safetensors and change \"dreamshaper_332BakedVaeClipFix.safetensors\" with the new model's name."
      ],
      "metadata": {
        "id": "yhtZCBXH8Gw7"
      }
    },
    {
      "cell_type": "code",
      "source": [
        "!curl -Lo Gemini_AnimeV1.safetensors https://huggingface.co/Cryonicus/Gemini_Anime/resolve/main/Gemini_AnimeV1.safetensors\n",
        "!curl -Lo instruct-pix2pix-00-22000.safetensors https://huggingface.co/timbrooks/instruct-pix2pix/resolve/main/instruct-pix2pix-00-22000.safetensors\n",
        "!curl -Lo Gemini_AnimeV1.vae.pt https://huggingface.co/stabilityai/sd-vae-ft-mse-original/resolve/main/vae-ft-mse-840000-ema-pruned.ckpt\n",
        "!mv \"/content/Gemini_AnimeV1.safetensors\" \"/content/stable-diffusion-webui/models/Stable-diffusion\"\n",
        "!mv \"/content/instruct-pix2pix-00-22000.safetensors\" \"/content/stable-diffusion-webui/models/Stable-diffusion\"\n",
        "!mv \"/content/Gemini_AnimeV1.vae.pt\" \"/content/stable-diffusion-webui/models/Stable-diffusion\""
      ],
      "metadata": {
        "id": "dnkmZtrZ8Iyq"
      },
      "execution_count": null,
      "outputs": []
    },
    {
      "cell_type": "markdown",
      "source": [
        "Textual inversion (embeddings)\n",
        "\n",
        "For using another custom textual inversion follow the same steps which were showed at \"Model and VAE\"."
      ],
      "metadata": {
        "id": "sSImdw3p8YvO"
      }
    },
    {
      "cell_type": "code",
      "source": [
        "!curl -Lo lausum.pt https://civitai.com/api/download/models/6021\n",
        "!mv \"/content/lausum.pt\" \"/content/stable-diffusion-webui/embeddings\""
      ],
      "metadata": {
        "id": "k_sMPtoH8hPC"
      },
      "execution_count": null,
      "outputs": []
    },
    {
      "cell_type": "markdown",
      "source": [
        "Hypernetworks\n",
        "\n",
        "For using another custom hypernetwork follow the same steps which were showed at \"Model and VAE\"."
      ],
      "metadata": {
        "id": "hLDzGXCt8q2Q"
      }
    },
    {
      "cell_type": "code",
      "source": [
        "!mkdir \"/content/stable-diffusion-webui/models/hypernetworks\"\n",
        "!curl -Lo anadearmasPt_v1.pt https://civitai.com/api/download/models/4550\n",
        "!mv \"/content/anadearmasPt_v1.pt\" \"/content/stable-diffusion-webui/models/hypernetworks\""
      ],
      "metadata": {
        "id": "mO5oYoYW8uyk"
      },
      "execution_count": null,
      "outputs": []
    },
    {
      "cell_type": "markdown",
      "source": [
        "LoRA\n",
        "\n",
        "For using another custom LoRA follow the same steps which were showed at \"Model and VAE\"."
      ],
      "metadata": {
        "id": "Ax21AFyU86pa"
      }
    },
    {
      "cell_type": "code",
      "source": [
        "!mkdir \"/content/stable-diffusion-webui/models/LORA\"\n",
        "!curl -Lo LuisapNijijourney_v1.safetensors https://civitai.com/api/download/models/5990\n",
        "!mv \"/content/LuisapNijijourney_v1.safetensors\" \"/content/stable-diffusion-webui/models/LORA\""
      ],
      "metadata": {
        "id": "P0hvagRV9Kj7"
      },
      "execution_count": null,
      "outputs": []
    },
    {
      "cell_type": "markdown",
      "source": [
        "Go in the primary directory"
      ],
      "metadata": {
        "id": "TB1QVnVu9Utd"
      }
    },
    {
      "cell_type": "code",
      "source": [
        "%cd /content/stable-diffusion-webui"
      ],
      "metadata": {
        "id": "9k3YHX239ZjF"
      },
      "execution_count": null,
      "outputs": []
    },
    {
      "cell_type": "markdown",
      "source": [
        "Run the WebUI. The username is \"user\" and the password is \"1234\".\n",
        "Or rerun this after you install an extension or if you get an error. It will launch faster this way, because you don't redownload/reinstall anything. \n",
        "Keep in mind that not all the extensions work (for example dreambooth)."
      ],
      "metadata": {
        "id": "BOfPgVyc9du5"
      }
    },
    {
      "cell_type": "code",
      "source": [
        "!COMMANDLINE_ARGS=\"--share --gradio-debug --medvram --disable-safe-unpickle --xformers --enable-insecure-extension-access --theme dark --gradio-auth user:1234\" REQS_FILE=\"requirements.txt\" python launch.py"
      ],
      "metadata": {
        "id": "9xnE9byZ96AW"
      },
      "execution_count": null,
      "outputs": []
    },
    {
      "cell_type": "markdown",
      "source": [
        "Copy all the generated images to google drive."
      ],
      "metadata": {
        "id": "q3vyZiVPRbe9"
      }
    },
    {
      "cell_type": "code",
      "source": [
        "!cp -r \"/content/stable-diffusion-webui/outputs/txt2img-images\" \"/content/drive/MyDrive/fromsd\""
      ],
      "metadata": {
        "id": "iew2MzjUQrpj"
      },
      "execution_count": null,
      "outputs": []
    }
  ],
  "metadata": {
    "accelerator": "GPU",
    "colab": {
      "provenance": []
    },
    "gpuClass": "standard",
    "kernelspec": {
      "display_name": "Python 3",
      "name": "python3"
    },
    "language_info": {
      "name": "python"
    }
  },
  "nbformat": 4,
  "nbformat_minor": 0
}