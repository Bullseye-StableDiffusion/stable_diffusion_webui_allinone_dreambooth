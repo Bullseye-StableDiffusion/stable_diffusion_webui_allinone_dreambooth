{
  "cells": [
    {
      "cell_type": "markdown",
      "source": [
        "WebUI, extensions and dependencies"
      ],
      "metadata": {
        "id": "EVgDaHSi7tnO"
      }
    },
    {
      "cell_type": "code",
      "source": [
        "!git clone https://github.com/AUTOMATIC1111/stable-diffusion-webui\n",
        "!git clone https://github.com/yfszzx/stable-diffusion-webui-images-browser /content/stable-diffusion-webui/extensions/stable-diffusion-webui-images-browser\n",
        "!git clone https://github.com/camenduru/sd-civitai-browser /content/stable-diffusion-webui/extensions/sd-civitai-browser\n",
        "!git clone https://github.com/camenduru/sd-webui-additional-networks /content/stable-diffusion-webui/extensions/sd-webui-additional-networks\n",
        "%pip install -q https://github.com/nolanaatama/sd-webui/releases/download/xformers/xformers-0.0.15+e163309.d20230103-cp38-cp38-linux_x86_64.whl"
      ],
      "metadata": {
        "id": "7Y5inriE74Xt"
      },
      "execution_count": null,
      "outputs": []
    },
    {
      "cell_type": "markdown",
      "source": [
        "Model and VAE"
      ],
      "metadata": {
        "id": "yhtZCBXH8Gw7"
      }
    },
    {
      "cell_type": "code",
      "source": [
        "!curl -Lo protogenX34Photorealism_1.safetensors https://civitai.com/api/download/models/4048\n",
        "!curl -Lo protogenX34Photorealism_1.vae.pt https://huggingface.co/stabilityai/sd-vae-ft-mse-original/resolve/main/vae-ft-mse-840000-ema-pruned.ckpt\n",
        "!mv \"/content/protogenX34Photorealism_1.safetensors\" \"/content/stable-diffusion-webui/models/Stable-diffusion\"\n",
        "!mv \"/content/protogenX34Photorealism_1.vae.pt\" \"/content/stable-diffusion-webui/models/Stable-diffusion\""
      ],
      "metadata": {
        "id": "dnkmZtrZ8Iyq"
      },
      "execution_count": null,
      "outputs": []
    },
    {
      "cell_type": "markdown",
      "source": [
        "Textual inversion (embeddings)"
      ],
      "metadata": {
        "id": "sSImdw3p8YvO"
      }
    },
    {
      "cell_type": "code",
      "source": [
        "!curl -Lo lausum.pt https://civitai.com/api/download/models/6021\n",
        "!mv \"/content/lausum.pt\" \"/content/stable-diffusion-webui/embeddings\""
      ],
      "metadata": {
        "id": "k_sMPtoH8hPC"
      },
      "execution_count": null,
      "outputs": []
    },
    {
      "cell_type": "markdown",
      "source": [
        "Hypernetworks"
      ],
      "metadata": {
        "id": "hLDzGXCt8q2Q"
      }
    },
    {
      "cell_type": "code",
      "source": [
        "!mkdir \"/content/stable-diffusion-webui/models/hypernetworks\"\n",
        "!curl -Lo incase_a3.pt https://huggingface.co/nolanaatama/ia3/resolve/main/incase_a3.pt\n",
        "!mv \"/content/incase_a3.pt\" \"/content/stable-diffusion-webui/models/hypernetworks\""
      ],
      "metadata": {
        "id": "mO5oYoYW8uyk"
      },
      "execution_count": null,
      "outputs": []
    },
    {
      "cell_type": "markdown",
      "source": [
        "LoRA"
      ],
      "metadata": {
        "id": "Ax21AFyU86pa"
      }
    },
    {
      "cell_type": "code",
      "source": [
        "!mkdir \"/content/stable-diffusion-webui/models/LORA\"\n",
        "!curl -Lo LuisapNijijourney_v1.safetensors https://civitai.com/api/download/models/5990\n",
        "!mv \"/content/LuisapNijijourney_v1.safetensors\" \"/content/stable-diffusion-webui/models/LORA\""
      ],
      "metadata": {
        "id": "P0hvagRV9Kj7"
      },
      "execution_count": null,
      "outputs": []
    },
    {
      "cell_type": "markdown",
      "source": [
        "Go in the primary directory and apply the fix"
      ],
      "metadata": {
        "id": "TB1QVnVu9Utd"
      }
    },
    {
      "cell_type": "code",
      "source": [
        "%cd /content/stable-diffusion-webui\n",
        "!git checkout 11d432d # temporary fix"
      ],
      "metadata": {
        "id": "9k3YHX239ZjF"
      },
      "execution_count": null,
      "outputs": []
    },
    {
      "cell_type": "markdown",
      "source": [
        "Run the WebUI. The username is \"user\" and the password is \"1234\".\n",
        "Or rerun this after you install an extension or if you get an error. It will launch faster this way, because you don't redownload/reinstall anything. \n",
        "Keep in mind that not all the extensions work (for example dreambooth)."
      ],
      "metadata": {
        "id": "BOfPgVyc9du5"
      }
    },
    {
      "cell_type": "code",
      "source": [
        "!COMMANDLINE_ARGS=\"--share --gradio-debug --medvram --disable-safe-unpickle --xformers --enable-insecure-extension-access --theme dark --gradio-auth user:1234\" REQS_FILE=\"requirements.txt\" python launch.py"
      ],
      "metadata": {
        "id": "9xnE9byZ96AW"
      },
      "execution_count": null,
      "outputs": []
    }
  ],
  "metadata": {
    "accelerator": "GPU",
    "colab": {
      "provenance": []
    },
    "gpuClass": "standard",
    "kernelspec": {
      "display_name": "Python 3",
      "name": "python3"
    },
    "language_info": {
      "name": "python"
    }
  },
  "nbformat": 4,
  "nbformat_minor": 0
}